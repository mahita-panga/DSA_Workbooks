{
 "cells": [
  {
   "cell_type": "markdown",
   "id": "559ce839-c067-4ae1-b7a3-b0654fbb389f",
   "metadata": {},
   "source": [
    "## Graphs: BFS TRAVERSAL"
   ]
  },
  {
   "cell_type": "markdown",
   "id": "9c57c202-c1ae-43a3-a995-d577b803d7ec",
   "metadata": {},
   "source": [
    "BFS is Breadth First Traversal. For any given graph, we start at one node and traverse breadth-wise to visit all the nodes in the graph. To track if we have visited a particular node or not, we need an additional data structure. We can use array/hash-map to track the visited nodes. If a node is visited, arr[node_loc] = 1 and if not visited it will be 0. This is to ensure, we are not visiting it multiple times.\n",
    "\n",
    "Coming to the traversal, as we are traversing breadth wise, i.e. visit all adjacent nodes of the current node, and then pick one node, and visit all adjacents of that node...This can be done via a queue. We can:\n",
    "<br><b> - Push all adj vertices of this vertex to the queue  -> |c|b|a|, Mark all these as visited since we have seen them.  </b><br>\n",
    "<b> - Pop queue i.e. |c|b| -> (a). Traverse edges of \"a\" and add their vertices to queue, mark them visited. </b><br>\n",
    "<b> Do both of this until your queue is empty.</b><br>\n",
    "\n",
    "Initially wherever you are starting, push the adjacents to queue and mark them visited. Then start your loop.\n"
   ]
  },
  {
   "cell_type": "markdown",
   "id": "3f2c470e-4378-4eb9-aa79-d9b4cc2602b0",
   "metadata": {},
   "source": [
    "### CODE"
   ]
  },
  {
   "cell_type": "code",
   "execution_count": 10,
   "id": "47988ed8-4d1f-4164-a5fe-e0c61a18a237",
   "metadata": {},
   "outputs": [
    {
     "name": "stdin",
     "output_type": "stream",
     "text": [
      " 1\n",
      " 5 4\n",
      " 0 1\n",
      " 0 2\n",
      " 0 3\n",
      " 1 4\n"
     ]
    },
    {
     "name": "stdout",
     "output_type": "stream",
     "text": [
      "0 1 2 3 4 \n"
     ]
    }
   ],
   "source": [
    "\n",
    "from typing import List\n",
    "from queue import Queue\n",
    "\n",
    "class Solution:\n",
    "    #Function to return Breadth First Traversal of given graph.\n",
    "    def bfsOfGraph(self, V: int, adj: List[List[int]]) -> List[int]:\n",
    "        \n",
    "        visited = [0]*V            # VISITED array set to 0 i.e. no vertices visited\n",
    "        queue = Queue()            # Queue to help us with breadth wise traversal\n",
    "        res = []                  # starting at 0th vertex in here. so appending 0 to result. \n",
    "        queue.put(0)               # put first elements to queue\n",
    "        visited[0] = 1             # visited of 0th set to 1, as we are starting from there\n",
    "            \n",
    "        while not queue.empty():   # Unless queue is empty i.e. all nodes are visited: repeat\n",
    "            next = queue.get()\n",
    "            res.append(next)\n",
    "            for i in adj[next]:\n",
    "                if visited[i] != 1:\n",
    "                    queue.put(i)\n",
    "                    visited[i] = 1\n",
    "                \n",
    "        return res\n",
    "            \n",
    "\n",
    "#{ \n",
    " # Driver Code Starts\n",
    "\n",
    "if __name__ == '__main__':\n",
    "\tT=int(input())\n",
    "\tfor i in range(T):\n",
    "\t\tV, E = map(int, input().split())\n",
    "\t\tadj = [[] for i in range(V)]\n",
    "\t\tfor _ in range(E):\n",
    "\t\t\tu, v = map(int, input().split())\n",
    "\t\t\tadj[u].append(v)\n",
    "\t\tob = Solution()\n",
    "\t\tans = ob.bfsOfGraph(V, adj)\n",
    "\t\tfor i in range(len(ans)):\n",
    "\t\t    print(ans[i], end = \" \")\n",
    "\t\tprint()\n",
    "        \n",
    "\n",
    "# } Driver Code Ends"
   ]
  },
  {
   "cell_type": "markdown",
   "id": "f3d2541d-b9e8-4ecd-8307-ea0a2add5e48",
   "metadata": {},
   "source": [
    "## Time Complexity\n",
    "\n",
    "Time Complexity: O(V) + O(2E), Where N = Nodes, 2E is for total degrees as we traverse all adjacent nodes.\n",
    "\n",
    "Space Complexity: O(3V) ~ O(V), Space for queue data structure visited array and an adjacency list"
   ]
  },
  {
   "cell_type": "code",
   "execution_count": null,
   "id": "d1cb2659-6499-48cf-be52-3238ee6e252c",
   "metadata": {},
   "outputs": [],
   "source": []
  }
 ],
 "metadata": {
  "kernelspec": {
   "display_name": "Python 3 (ipykernel)",
   "language": "python",
   "name": "python3"
  },
  "language_info": {
   "codemirror_mode": {
    "name": "ipython",
    "version": 3
   },
   "file_extension": ".py",
   "mimetype": "text/x-python",
   "name": "python",
   "nbconvert_exporter": "python",
   "pygments_lexer": "ipython3",
   "version": "3.10.10"
  }
 },
 "nbformat": 4,
 "nbformat_minor": 5
}
