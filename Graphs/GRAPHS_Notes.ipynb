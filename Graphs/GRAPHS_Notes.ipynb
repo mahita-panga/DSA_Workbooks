{
 "cells": [
  {
   "cell_type": "markdown",
   "id": "559ce839-c067-4ae1-b7a3-b0654fbb389f",
   "metadata": {},
   "source": [
    "# Graphs: \n",
    "## BFS TRAVERSAL"
   ]
  },
  {
   "cell_type": "markdown",
   "id": "9c57c202-c1ae-43a3-a995-d577b803d7ec",
   "metadata": {},
   "source": [
    "BFS is Breadth First Traversal. For any given graph, we start at one node and traverse breadth-wise to visit all the nodes in the graph. To track if we have visited a particular node or not, we need an additional data structure. We can use array/hash-map to track the visited nodes. If a node is visited, arr[node_loc] = 1 and if not visited it will be 0. This is to ensure, we are not visiting it multiple times.\n",
    "\n",
    "Coming to the traversal, as we are traversing breadth wise, i.e. visit all adjacent nodes of the current node, and then pick one node, and visit all adjacents of that node...This can be done via a queue. We can:\n",
    "<br><b> - Push all adj vertices of this vertex to the queue  -> |c|b|a|, Mark all these as visited since we have seen them.  </b><br>\n",
    "<b> - Pop queue i.e. |c|b| -> (a). Traverse edges of \"a\" and add their vertices to queue, mark them visited. </b><br>\n",
    "<b> Do both of this until your queue is empty.</b><br>\n",
    "\n",
    "Initially wherever you are starting, push the adjacents to queue and mark them visited. Then start your loop.\n"
   ]
  },
  {
   "cell_type": "markdown",
   "id": "3f2c470e-4378-4eb9-aa79-d9b4cc2602b0",
   "metadata": {},
   "source": [
    "### CODE"
   ]
  },
  {
   "cell_type": "code",
   "execution_count": 10,
   "id": "47988ed8-4d1f-4164-a5fe-e0c61a18a237",
   "metadata": {},
   "outputs": [
    {
     "name": "stdin",
     "output_type": "stream",
     "text": [
      " 1\n",
      " 5 4\n",
      " 0 1\n",
      " 0 2\n",
      " 0 3\n",
      " 1 4\n"
     ]
    },
    {
     "name": "stdout",
     "output_type": "stream",
     "text": [
      "0 1 2 3 4 \n"
     ]
    }
   ],
   "source": [
    "## GFG CODE: https://www.geeksforgeeks.org/problems/bfs-traversal-of-graph/1 \n",
    "\n",
    "from typing import List\n",
    "from queue import Queue\n",
    "\n",
    "class Solution:\n",
    "    #Function to return Breadth First Traversal of given graph.\n",
    "    def bfsOfGraph(self, V: int, adj: List[List[int]]) -> List[int]:\n",
    "        \n",
    "        visited = [0]*V            # VISITED array set to 0 i.e. no vertices visited\n",
    "        queue = Queue()            # Queue to help us with breadth wise traversal\n",
    "        res = []                   # starting at 0th vertex in here. so appending 0 to result. \n",
    "        queue.put(0)               # put first elements to queue\n",
    "        visited[0] = 1             # visited of 0th set to 1, as we are starting from there\n",
    "            \n",
    "        while not queue.empty():   # Unless queue is empty i.e. all nodes are visited: repeat\n",
    "            next = queue.get()\n",
    "            res.append(next)\n",
    "            for i in adj[next]:\n",
    "                if visited[i] != 1:\n",
    "                    queue.put(i)\n",
    "                    visited[i] = 1\n",
    "                \n",
    "        return res\n",
    "            \n",
    "\n",
    "#{ \n",
    " # Driver Code Starts\n",
    "\n",
    "if __name__ == '__main__':\n",
    "\tT=int(input())\n",
    "\tfor i in range(T):\n",
    "\t\tV, E = map(int, input().split())\n",
    "\t\tadj = [[] for i in range(V)]\n",
    "\t\tfor _ in range(E):\n",
    "\t\t\tu, v = map(int, input().split())\n",
    "\t\t\tadj[u].append(v)\n",
    "\t\tob = Solution()\n",
    "\t\tans = ob.bfsOfGraph(V, adj)\n",
    "\t\tfor i in range(len(ans)):\n",
    "\t\t    print(ans[i], end = \" \")\n",
    "\t\tprint()\n",
    "        \n",
    "\n",
    "# } Driver Code Ends"
   ]
  },
  {
   "cell_type": "code",
   "execution_count": 17,
   "id": "b94b5bfa-9a53-4671-828d-59db268d6625",
   "metadata": {},
   "outputs": [
    {
     "data": {
      "text/plain": [
       "[0, 1, 2]"
      ]
     },
     "execution_count": 17,
     "metadata": {},
     "output_type": "execute_result"
    }
   ],
   "source": [
    "\"\"\"\n",
    "Given an adjancency list: \n",
    "- Here we are using adjacency list for representing a graph which is a BiDirectional graph\n",
    "- Also keep track of visited nodes since Graph may have cycle\n",
    "\n",
    "V = 5, E = 4\n",
    "adj = {{1,2,3},{},{4},{},{}}\n",
    "OUTPUT: 0 1 2 3 4\n",
    "\n",
    "V = 3, E = 2\n",
    "adj = {{1,2},{},{}}\n",
    "OUTPUT: 0 1 2\n",
    "\n",
    "\"\"\"\n",
    "\n",
    "from collections import deque #deque: double ended queue.\n",
    " \n",
    "def bfs(adj,V):\n",
    "    bfs = []\n",
    "    visited = [0] * V\n",
    "    q = deque()\n",
    "    root_node = 0  # Assuming we are starting from 0th vertex\n",
    "    \n",
    "    q.appendleft(root_node)\n",
    "    visited[root_node] = 1\n",
    "\n",
    "    while len(q) != 0:\n",
    "        curr_node = q.pop()\n",
    "        bfs.append(curr_node)\n",
    "        for i in adj[curr_node]:\n",
    "            if visited[i] != 1:\n",
    "                q.appendleft(i)\n",
    "                visited[i] = 1\n",
    "    return bfs\n",
    "\n",
    "\n",
    "                \n",
    "V = 3\n",
    "E = 2\n",
    "adj = [[1,2],[],[]]\n",
    "bfs(adj,V)\n"
   ]
  },
  {
   "cell_type": "markdown",
   "id": "44bf8564-db37-4912-92b2-77ebb3f44043",
   "metadata": {},
   "source": [
    "## BFS on adjacency matrix"
   ]
  },
  {
   "cell_type": "code",
   "execution_count": 28,
   "id": "3c7583d9-0a65-447c-92ce-001f4dd4207f",
   "metadata": {},
   "outputs": [
    {
     "name": "stdout",
     "output_type": "stream",
     "text": [
      "BFS traversal starting from vertex 0: [0, 1, 2, 3, 4]\n"
     ]
    }
   ],
   "source": [
    "from collections import deque\n",
    "\n",
    "def bfs_traversal(adj_matrix,start_node):\n",
    "    num_vertices = len(adj_matrix)\n",
    "    visited = [False] * num_vertices\n",
    "    bfs_order = []\n",
    "    q = deque()\n",
    "    q.appendleft(start_node)\n",
    "    visited[start_node]=1\n",
    "    \n",
    "    while len(q) != 0:\n",
    "        curr_node = q.pop()\n",
    "        bfs_order.append(curr_node)\n",
    "        for neighbour in range(len(adj_matrix)):\n",
    "            if adj_matrix[curr_node][neighbour] == 1 and visited[neighbour]!=1:\n",
    "                visited[neighbour]=1\n",
    "                q.appendleft(neighbour)\n",
    "        \n",
    "        \n",
    "    return bfs_order\n",
    "\n",
    "adj_matrix = [\n",
    "    [0, 1, 1, 0, 0],\n",
    "    [1, 0, 0, 1, 0],\n",
    "    [1, 0, 0, 1, 1],\n",
    "    [0, 1, 1, 0, 1],\n",
    "    [0, 0, 1, 1, 0]\n",
    "]\n",
    "\n",
    "\n",
    "print(f\"BFS traversal starting from vertex 0: {bfs_traversal(adj_matrix,0)}\")"
   ]
  },
  {
   "cell_type": "markdown",
   "id": "f3d2541d-b9e8-4ecd-8307-ea0a2add5e48",
   "metadata": {},
   "source": [
    "## Time Complexity\n",
    "\n",
    "Time Complexity: O(V) + O(2E), Where N = Nodes, 2E is for total degrees as we traverse all adjacent nodes.\n",
    "\n",
    "Space Complexity: O(3V) ~ O(V), Space for queue data structure visited array and an adjacency list"
   ]
  },
  {
   "cell_type": "markdown",
   "id": "cf3f1395-ccff-42e4-ba69-df828fc622b0",
   "metadata": {},
   "source": [
    "## DFS Traversal"
   ]
  },
  {
   "cell_type": "markdown",
   "id": "5abb1ed1-e87c-4ebe-a4eb-f2736bba8805",
   "metadata": {},
   "source": [
    "DFS is Depth First Traversal i.e. we traverse the until we reach the <b> depth of current path </b> we are visiting and then go to other paths. Since we are traversing depth wise, we can use a stack to store all the nodes we are visiting in a path and once we reached end of that path --> our stack holds the deepest vertex at top, we keep popping from stack and again keep traversing until all nodes are visited.\n",
    "\n",
    "<b><i> Since we have a stack, we can implement the same using recursion as recursion too uses an auxillary stack space and we need not handle stack exclusively </i></b>\n",
    "\n",
    "For tracking the visited of vertices in graph, we will maintain the array visited[] which will contain 1 if vertex i is visited and 0 if it is not visited yet.\n",
    "Below is how we implement:\n",
    "<br>\n",
    "<b> - Recursion call : <br>&nbsp; &nbsp; We can call the recursion until the nodes in the adjacency list are all visited for the vertex we are seeing </b>\n",
    "<br><b> - Keep track of the visited elements in the array by updating it to 1 before calling the recursion</b>\n",
    "    "
   ]
  },
  {
   "cell_type": "code",
   "execution_count": 21,
   "id": "d4d40034-0cbe-4d8a-a74e-de5efbc8e7b9",
   "metadata": {},
   "outputs": [
    {
     "data": {
      "text/plain": [
       "[0, 2, 4, 3, 1]"
      ]
     },
     "execution_count": 21,
     "metadata": {},
     "output_type": "execute_result"
    }
   ],
   "source": [
    "#https://www.geeksforgeeks.org/problems/depth-first-traversal-for-a-graph/1\n",
    "\n",
    "class Solution:\n",
    "    #Recursion call to implement depth-first search\n",
    "    def dfs_recursion(self,curr_node):\n",
    "        self.visited[curr_node] = 1\n",
    "        self.dfs.append(curr_node)\n",
    "        for i in self.adj[curr_node]:\n",
    "            if self.visited[i] != 1:\n",
    "                self.dfs_recursion(i)\n",
    "        \n",
    "    #Function to return a list containing the DFS traversal of the graph.\n",
    "    def dfsOfGraph(self, V, adj):\n",
    "        # code here\n",
    "        self.adj = adj\n",
    "        self.dfs = []\n",
    "        self.visited = [0]*V\n",
    "        \n",
    "        root_node = 0\n",
    "        self.visited[root_node] = 1\n",
    "\n",
    "        self.dfs_recursion(root_node)\n",
    "        \n",
    "        return self.dfs\n",
    "\n",
    "\n",
    "# #{ \n",
    "#  # Driver Code Starts\n",
    "# if __name__ == '__main__':\n",
    "#     T=int(input())\n",
    "#     while T>0:\n",
    "#         V,E=map(int,input().split())\n",
    "#         adj=[[] for i in range(V+1)]\n",
    "#         for i in range(E):\n",
    "#             u,v=map(int,input().split())\n",
    "#             adj[u].append(v)\n",
    "#             adj[v].append(u)\n",
    "#         ob=Solution()\n",
    "#         ans=ob.dfsOfGraph(V,adj)\n",
    "#         for i in range(len(ans)):\n",
    "#             print(ans[i],end=\" \")\n",
    "#         print()\n",
    "#         T-=1\n",
    "# # } Driver Code Ends\n",
    "\n",
    "V = 5 \n",
    "adj = [[2,3,1] , [0], [0,4], [0], [2]]\n",
    "Solution().dfsOfGraph(V,adj)"
   ]
  },
  {
   "cell_type": "markdown",
   "id": "09178d72-22ab-4462-8fde-e6840c0f1473",
   "metadata": {},
   "source": [
    "### DFS ON ADJACENCY MATRIX"
   ]
  },
  {
   "cell_type": "code",
   "execution_count": 25,
   "id": "0dc59142-82fc-45e7-9c6c-5c65802c99f8",
   "metadata": {},
   "outputs": [
    {
     "name": "stdout",
     "output_type": "stream",
     "text": [
      "DFS traversal starting from vertex 0: [0, 1, 3, 2, 4]\n"
     ]
    }
   ],
   "source": [
    "def dfs(adj_matrix, visited, vertex,dfs_order):\n",
    "    dfs_order.append(vertex)\n",
    "    visited[vertex] = True\n",
    "    \n",
    "    # Iterate over all vertices to find neighbors\n",
    "    for neighbor in range(len(adj_matrix[vertex])):\n",
    "        if adj_matrix[vertex][neighbor] == 1 and not visited[neighbor]: \n",
    "            #if a path is there between neighbour and vertex and it is not visitred\n",
    "            dfs(adj_matrix, visited, neighbor,dfs_order)\n",
    "\n",
    "def dfs_traversal(adj_matrix):\n",
    "    num_vertices = len(adj_matrix)\n",
    "    visited = [False] * num_vertices\n",
    "    dfs_order = []\n",
    "    dfs(adj_matrix, visited, 0, dfs_order) #start at 0\n",
    "    return dfs_order\n",
    "\n",
    "\n",
    "adj_matrix = [\n",
    "    [0, 1, 1, 0, 0],\n",
    "    [1, 0, 0, 1, 0],\n",
    "    [1, 0, 0, 1, 1],\n",
    "    [0, 1, 1, 0, 1],\n",
    "    [0, 0, 1, 1, 0]\n",
    "]\n",
    "\n",
    "\n",
    "print(f\"DFS traversal starting from vertex 0: {dfs_traversal(adj_matrix)}\")\n"
   ]
  },
  {
   "cell_type": "markdown",
   "id": "dcde7c04-a43b-46ec-8deb-8516e1e01b36",
   "metadata": {},
   "source": [
    "### Time Complexity: \n",
    "For an undirected graph, <b>O(N) + O(2E)</b>, <br> For a directed graph, <b>O(N) + O(E)</b>, Because for every node we are calling the recursive function once, the time taken is O(N) and 2E is for total degrees as we traverse for all adjacent nodes.\n",
    "\n",
    "### Space Complexity: \n",
    "O(3N) ~ O(N), Space for dfs stack space, visited array and an adjacency list."
   ]
  },
  {
   "cell_type": "markdown",
   "id": "ba282490-c282-4ae9-8129-706f4fac4b2a",
   "metadata": {},
   "source": [
    "# Topo Sort "
   ]
  },
  {
   "cell_type": "markdown",
   "id": "203cbade-cf6c-40cc-b3b8-8e2ac9b902d5",
   "metadata": {},
   "source": [
    "If we want to sort vertices based on the order they are appearing in the directed acyclic graph, i.e u->v then u should be before v. This ordering is called topological sort.This helps in solving ordering based problems in graphs."
   ]
  },
  {
   "cell_type": "markdown",
   "id": "e545da6b-39cd-419f-8ddc-50d8e76f0e8d",
   "metadata": {},
   "source": [
    "## Using BFS\n",
    "\n",
    "BFS uses an indegree array additionally. Keep adding items to the queue whose indegree==0 which mean nodes whose incoming edges are 0 or have been visited already. \n",
    "<br>Intuition: <br> First we create indegree array of the graph. Now add terminal nodes to the queue and mark them visited.Pop the queue. Visit the nodes this curr node from queue is connected to and reduce the connected indegree's by 1 indicating that these nodes are visited. If indegree is 0 then add to queue and mark it visited."
   ]
  },
  {
   "cell_type": "code",
   "execution_count": 15,
   "id": "df8627a6-7010-486e-90a3-4d54064be8b5",
   "metadata": {},
   "outputs": [
    {
     "name": "stdout",
     "output_type": "stream",
     "text": [
      "[0, 1, 2, 4, 3, 5]\n"
     ]
    }
   ],
   "source": [
    "from collections import deque\n",
    "class Solution:\n",
    "    \n",
    "    #Function to return list containing vertices in Topological order.\n",
    "    def topoSortBFS(self, V, adj):\n",
    "        # Code here\n",
    "        indegree = [0]*V\n",
    "        visited = [0]*V\n",
    "        \n",
    "        for i in range(V):\n",
    "            for nodes in adj[i]:\n",
    "                indegree[nodes]+=1\n",
    "        \n",
    "        q = deque()\n",
    "        for i in range(V):\n",
    "            if indegree[i] == 0:\n",
    "                q.append(i)\n",
    "                visited[i] = 1\n",
    "            \n",
    "        res = []\n",
    "        while len(q)!=0:\n",
    "          curr = q.popleft()\n",
    "          res.append(curr)\n",
    "          for i in adj[curr]:\n",
    "              if visited[i] ==0:\n",
    "                  indegree[i] -=1\n",
    "                  if indegree[i] == 0:\n",
    "                      q.append(i)\n",
    "                      visited[i] = 1\n",
    "\n",
    "        if len(res) != len(indegree):\n",
    "            return [] #CYCLE DETECTED\n",
    "        return res\n",
    "\n",
    "V = 6\n",
    "adj = [[2, 3],[3, 4], [3], [], [5], []]\n",
    "print(Solution().topoSortBFS(V, adj))"
   ]
  },
  {
   "cell_type": "markdown",
   "id": "72fb6b0e-0023-466c-aee2-5bcedef5c3d1",
   "metadata": {},
   "source": [
    "## Using DFS"
   ]
  },
  {
   "cell_type": "markdown",
   "id": "de257397-adbf-48f3-8424-720c3c307adf",
   "metadata": {},
   "source": [
    "DFS uses a stack approach.\n",
    "After traversing the graph till the depth of the graph, keep adding the nodes to a stack while backtracking. Once traversal is complete, pop the stack and that  is the topo sort"
   ]
  },
  {
   "cell_type": "code",
   "execution_count": 10,
   "id": "5f0a756e-e673-4bb7-a5f9-e0abe0d5c8bf",
   "metadata": {},
   "outputs": [
    {
     "name": "stdout",
     "output_type": "stream",
     "text": [
      "[1, 4, 5, 0, 2, 3]\n"
     ]
    }
   ],
   "source": [
    "from collections import deque\n",
    "class Solution:\n",
    "\n",
    "    def dfs(self,curr_node,stack,visited,adj):\n",
    "        visited[curr_node] = 1\n",
    "        for i in adj[curr_node]:\n",
    "            if visited[i] != 1:\n",
    "                self.dfs(i,stack,visited,adj)\n",
    "        stack.append(curr_node)\n",
    "    \n",
    "    #Function to return list containing vertices in Topological order.\n",
    "    def topoSortDFS(self, V, adj):\n",
    "        # Code here\n",
    "        visited = [0]*V\n",
    "        stack = []\n",
    "        res = []\n",
    "        for i in range(V):\n",
    "            if visited[i] ==0:\n",
    "                self.dfs(i,stack,visited,adj)\n",
    "        while stack:\n",
    "            res.append(stack.pop())\n",
    "        return res    \n",
    "\n",
    "        \n",
    "\n",
    "V = 6\n",
    "adj = [[2, 3],[3, 4], [3], [], [5], []]\n",
    "print(Solution().topoSortDFS(V, adj))"
   ]
  },
  {
   "cell_type": "markdown",
   "id": "e2c0614e-3081-472f-aaa6-b6be520aefeb",
   "metadata": {},
   "source": [
    "# Shortest PATH in graphs"
   ]
  },
  {
   "cell_type": "markdown",
   "id": "54972b9a-1196-4327-87c2-e1ef813c9d6f",
   "metadata": {},
   "source": [
    "## DIJKSTRA'S ALGORITHM"
   ]
  },
  {
   "cell_type": "markdown",
   "id": "b12984fc-f43c-4b74-9449-1d57a8dea253",
   "metadata": {},
   "source": [
    "STEPS:\n",
    "* Initialize the distance to all vertices as infinity and the source vertex distance to 0.\n",
    "* Use a priority queue to select the vertex with the minimum distance.\n",
    "* Update the distance of adjacent vertices.\n",
    "\n",
    "-> <u>Initialization</u>:\n",
    "    <b>distances</b>: A list that stores the shortest distance from the source node to each node - set tp (float('inf')), except the source node, which is set to 0.\n",
    "    <b>priority_queue</b>: A priority queue (min-heap) initialized with the source node and its distance.\n",
    "\n",
    "-><u>P.Q Processing</u>:\n",
    "    Use heapq module in python. heapq.heappush(list,value) is to push value into min heap based on the value. heapq.heappop() to pop min element.\n",
    "    While the priority queue is not empty, pop the node with the smallest distance.\n",
    "        If the popped distance is greater than the current known distance for that node, skip it (this ensures that we only process each node once with its smallest distance).\n",
    "        For each neighbor of the current node, calculate the distance through the current node. If this distance is smaller than the currently known distance, update the distance and push the neighbor with the new distance into the priority queue.\n",
    "\n",
    "->After processing all nodes, replace distances that remain as infinity with -1 to indicate that those nodes are unreachable from the source node.\n",
    "\n"
   ]
  },
  {
   "cell_type": "code",
   "execution_count": null,
   "id": "b9f9561f-592b-4942-a897-4833c3182497",
   "metadata": {},
   "outputs": [],
   "source": [
    "import heapq\n",
    "\n",
    "class Solution:\n",
    "\n",
    "    #Function to find the shortest distance of all the vertices\n",
    "    #from the source vertex S.\n",
    "    def dijkstra(self, V, adj, S):\n",
    "        #code here\n",
    "        distances = [float('inf')] * V\n",
    "        distances[S] = 0\n",
    "        \n",
    "        priority_queue = [(0, S)]\n",
    "        \n",
    "        while priority_queue:\n",
    "            curr_distance,curr_node =heapq.heappop(priority_queue)\n",
    "            if curr_distance > distances[curr_node]:\n",
    "                continue\n",
    "            for neighbour,weight in adj[curr_node]:\n",
    "                dist = curr_distance + weight\n",
    "                if dist < distances[neighbour]:\n",
    "                    distances[neighbour] = dist\n",
    "                    heapq.heappush(priority_queue, (dist, neighbour))\n",
    "                    \n",
    "        \n",
    "        \n",
    "        return [-1 if dist == float('inf') else dist for dist in distances]\n",
    "\n",
    "\n",
    "            "
   ]
  },
  {
   "cell_type": "markdown",
   "id": "8531c8b6-cea2-453e-a03c-a9d5ce5ecf01",
   "metadata": {},
   "source": [
    "Time Complexity: O( E log(V) ), Where E = Number of edges and V = Number of Nodes.\n",
    "<br>cause - We will be going through all edges but processing only nodes with shorter distance.\n",
    "\n",
    "Space Complexity: O( |E| + |V| ), Where E = Number of edges and V = Number of Nodes. \n",
    "<br>cause - distance array: V + heap which can contain all edgest atmost in case of sorted weights."
   ]
  },
  {
   "cell_type": "code",
   "execution_count": null,
   "id": "1a5f32b2-0924-43bd-b30a-3a4669239f43",
   "metadata": {},
   "outputs": [],
   "source": []
  },
  {
   "cell_type": "code",
   "execution_count": null,
   "id": "6f02a299-e762-4f23-86e9-66a93c593634",
   "metadata": {},
   "outputs": [],
   "source": []
  },
  {
   "cell_type": "code",
   "execution_count": null,
   "id": "d4a5fd0f-4f92-4655-a84d-85cc8395764b",
   "metadata": {},
   "outputs": [],
   "source": []
  },
  {
   "cell_type": "code",
   "execution_count": null,
   "id": "51b43a7f-8f90-4afd-8d04-297dc5667a51",
   "metadata": {},
   "outputs": [],
   "source": []
  },
  {
   "cell_type": "code",
   "execution_count": null,
   "id": "0113b3ee-5250-4944-ab37-d5f0d5d5f056",
   "metadata": {},
   "outputs": [],
   "source": []
  },
  {
   "cell_type": "code",
   "execution_count": null,
   "id": "26a357a9-e65f-433d-9bbd-f0479af77e96",
   "metadata": {},
   "outputs": [],
   "source": []
  },
  {
   "cell_type": "code",
   "execution_count": 44,
   "id": "219eb5a7-1102-4349-9f93-4274b5ddb9ab",
   "metadata": {},
   "outputs": [
    {
     "name": "stdout",
     "output_type": "stream",
     "text": [
      "[['hit', 'hot', 'dot', 'dog', 'cog'], ['hit', 'hot', 'lot', 'log', 'cog']]\n"
     ]
    }
   ],
   "source": [
    "from collections import deque\n",
    "\n",
    "def wordLadderLength(beginWord, endWord, wordList):\n",
    "    wordSet = set(wordList)\n",
    "    if endWord not in wordSet:\n",
    "        return []\n",
    "    \n",
    "    queue = deque([[beginWord]])\n",
    "    visited = set() #keeps track of all words seen\n",
    "    level_visited = set() #keeps track of words seen in each level. \n",
    "    results = []\n",
    "    found = False # ensures that we are not processing or adding duplicate words to the list after finding the end word\n",
    "    \n",
    "    while queue and not found:\n",
    "        level_visited.clear()\n",
    "        level_size = len(queue)\n",
    "        \n",
    "        for _ in range(level_size):\n",
    "            path = queue.popleft()\n",
    "            current_word = path[-1]\n",
    "            \n",
    "            for i in range(len(current_word)):\n",
    "                for c in 'abcdefghijklmnopqrstuvwxyz':\n",
    "                    next_word = current_word[:i] + c + current_word[i+1:]\n",
    "                    \n",
    "                    if next_word == endWord:\n",
    "                        results.append(path + [next_word])\n",
    "                        found = True\n",
    "                    \n",
    "                    if next_word in wordSet and next_word not in visited:\n",
    "                        level_visited.add(next_word)\n",
    "                        queue.append(path + [next_word])\n",
    "        \n",
    "        visited.update(level_visited)\n",
    "    \n",
    "    return results\n",
    "\n",
    "\n",
    "# Example usage\n",
    "beginWord = \"hit\"\n",
    "endWord = \"cog\"\n",
    "wordList = [\"hot\",\"dot\",\"dog\",\"lot\",\"log\",\"cog\"]\n",
    "print(wordLadderLength(beginWord, endWord, wordList))  \n"
   ]
  },
  {
   "cell_type": "code",
   "execution_count": 28,
   "id": "a76cf889-419a-4a86-b75c-3a8a627baa77",
   "metadata": {},
   "outputs": [
    {
     "data": {
      "text/plain": [
       "1"
      ]
     },
     "execution_count": 28,
     "metadata": {},
     "output_type": "execute_result"
    }
   ],
   "source": [
    "max(0,1)"
   ]
  },
  {
   "cell_type": "code",
   "execution_count": null,
   "id": "8eded26f-cc80-4a24-a008-4a77e6563a5a",
   "metadata": {},
   "outputs": [],
   "source": []
  }
 ],
 "metadata": {
  "kernelspec": {
   "display_name": "Python 3 (ipykernel)",
   "language": "python",
   "name": "python3"
  },
  "language_info": {
   "codemirror_mode": {
    "name": "ipython",
    "version": 3
   },
   "file_extension": ".py",
   "mimetype": "text/x-python",
   "name": "python",
   "nbconvert_exporter": "python",
   "pygments_lexer": "ipython3",
   "version": "3.10.10"
  }
 },
 "nbformat": 4,
 "nbformat_minor": 5
}
