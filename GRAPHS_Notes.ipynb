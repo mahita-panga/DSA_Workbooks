{
 "cells": [
  {
   "cell_type": "markdown",
   "id": "559ce839-c067-4ae1-b7a3-b0654fbb389f",
   "metadata": {},
   "source": [
    "# Graphs: \n",
    "## BFS TRAVERSAL"
   ]
  },
  {
   "cell_type": "markdown",
   "id": "9c57c202-c1ae-43a3-a995-d577b803d7ec",
   "metadata": {},
   "source": [
    "BFS is Breadth First Traversal. For any given graph, we start at one node and traverse breadth-wise to visit all the nodes in the graph. To track if we have visited a particular node or not, we need an additional data structure. We can use array/hash-map to track the visited nodes. If a node is visited, arr[node_loc] = 1 and if not visited it will be 0. This is to ensure, we are not visiting it multiple times.\n",
    "\n",
    "Coming to the traversal, as we are traversing breadth wise, i.e. visit all adjacent nodes of the current node, and then pick one node, and visit all adjacents of that node...This can be done via a queue. We can:\n",
    "<br><b> - Push all adj vertices of this vertex to the queue  -> |c|b|a|, Mark all these as visited since we have seen them.  </b><br>\n",
    "<b> - Pop queue i.e. |c|b| -> (a). Traverse edges of \"a\" and add their vertices to queue, mark them visited. </b><br>\n",
    "<b> Do both of this until your queue is empty.</b><br>\n",
    "\n",
    "Initially wherever you are starting, push the adjacents to queue and mark them visited. Then start your loop.\n"
   ]
  },
  {
   "cell_type": "markdown",
   "id": "3f2c470e-4378-4eb9-aa79-d9b4cc2602b0",
   "metadata": {},
   "source": [
    "### CODE"
   ]
  },
  {
   "cell_type": "code",
   "execution_count": 10,
   "id": "47988ed8-4d1f-4164-a5fe-e0c61a18a237",
   "metadata": {},
   "outputs": [
    {
     "name": "stdin",
     "output_type": "stream",
     "text": [
      " 1\n",
      " 5 4\n",
      " 0 1\n",
      " 0 2\n",
      " 0 3\n",
      " 1 4\n"
     ]
    },
    {
     "name": "stdout",
     "output_type": "stream",
     "text": [
      "0 1 2 3 4 \n"
     ]
    }
   ],
   "source": [
    "## GFG CODE: https://www.geeksforgeeks.org/problems/bfs-traversal-of-graph/1 \n",
    "\n",
    "from typing import List\n",
    "from queue import Queue\n",
    "\n",
    "class Solution:\n",
    "    #Function to return Breadth First Traversal of given graph.\n",
    "    def bfsOfGraph(self, V: int, adj: List[List[int]]) -> List[int]:\n",
    "        \n",
    "        visited = [0]*V            # VISITED array set to 0 i.e. no vertices visited\n",
    "        queue = Queue()            # Queue to help us with breadth wise traversal\n",
    "        res = []                   # starting at 0th vertex in here. so appending 0 to result. \n",
    "        queue.put(0)               # put first elements to queue\n",
    "        visited[0] = 1             # visited of 0th set to 1, as we are starting from there\n",
    "            \n",
    "        while not queue.empty():   # Unless queue is empty i.e. all nodes are visited: repeat\n",
    "            next = queue.get()\n",
    "            res.append(next)\n",
    "            for i in adj[next]:\n",
    "                if visited[i] != 1:\n",
    "                    queue.put(i)\n",
    "                    visited[i] = 1\n",
    "                \n",
    "        return res\n",
    "            \n",
    "\n",
    "#{ \n",
    " # Driver Code Starts\n",
    "\n",
    "if __name__ == '__main__':\n",
    "\tT=int(input())\n",
    "\tfor i in range(T):\n",
    "\t\tV, E = map(int, input().split())\n",
    "\t\tadj = [[] for i in range(V)]\n",
    "\t\tfor _ in range(E):\n",
    "\t\t\tu, v = map(int, input().split())\n",
    "\t\t\tadj[u].append(v)\n",
    "\t\tob = Solution()\n",
    "\t\tans = ob.bfsOfGraph(V, adj)\n",
    "\t\tfor i in range(len(ans)):\n",
    "\t\t    print(ans[i], end = \" \")\n",
    "\t\tprint()\n",
    "        \n",
    "\n",
    "# } Driver Code Ends"
   ]
  },
  {
   "cell_type": "code",
   "execution_count": 17,
   "id": "b94b5bfa-9a53-4671-828d-59db268d6625",
   "metadata": {},
   "outputs": [
    {
     "data": {
      "text/plain": [
       "[0, 1, 2]"
      ]
     },
     "execution_count": 17,
     "metadata": {},
     "output_type": "execute_result"
    }
   ],
   "source": [
    "\"\"\"\n",
    "Given an adjancency list: \n",
    "- Here we are using adjacency list for representing a graph which is a BiDirectional graph\n",
    "- Also keep track of visited nodes since Graph may have cycle\n",
    "\n",
    "V = 5, E = 4\n",
    "adj = {{1,2,3},{},{4},{},{}}\n",
    "OUTPUT: 0 1 2 3 4\n",
    "\n",
    "V = 3, E = 2\n",
    "adj = {{1,2},{},{}}\n",
    "OUTPUT: 0 1 2\n",
    "\n",
    "\"\"\"\n",
    "\n",
    "from collections import deque #deque: double ended queue.\n",
    " \n",
    "def bfs(adj,V):\n",
    "    bfs = []\n",
    "    visited = [0] * V\n",
    "    q = deque()\n",
    "    root_node = 0  # Assuming we are starting from 0th vertex\n",
    "    \n",
    "    q.appendleft(root_node)\n",
    "    visited[root_node] = 1\n",
    "\n",
    "    while len(q) != 0:\n",
    "        curr_node = q.pop()\n",
    "        bfs.append(curr_node)\n",
    "        for i in adj[curr_node]:\n",
    "            if visited[i] != 1:\n",
    "                q.appendleft(i)\n",
    "                visited[i] = 1\n",
    "    return bfs\n",
    "\n",
    "\n",
    "                \n",
    "V = 3\n",
    "E = 2\n",
    "adj = [[1,2],[],[]]\n",
    "bfs(adj,V)\n"
   ]
  },
  {
   "cell_type": "markdown",
   "id": "44bf8564-db37-4912-92b2-77ebb3f44043",
   "metadata": {},
   "source": [
    "## BFS on adjacency matrix"
   ]
  },
  {
   "cell_type": "code",
   "execution_count": 28,
   "id": "3c7583d9-0a65-447c-92ce-001f4dd4207f",
   "metadata": {},
   "outputs": [
    {
     "name": "stdout",
     "output_type": "stream",
     "text": [
      "BFS traversal starting from vertex 0: [0, 1, 2, 3, 4]\n"
     ]
    }
   ],
   "source": [
    "from collections import deque\n",
    "\n",
    "def bfs_traversal(adj_matrix,start_node):\n",
    "    num_vertices = len(adj_matrix)\n",
    "    visited = [False] * num_vertices\n",
    "    bfs_order = []\n",
    "    q = deque()\n",
    "    q.appendleft(start_node)\n",
    "    visited[start_node]=1\n",
    "    \n",
    "    while len(q) != 0:\n",
    "        curr_node = q.pop()\n",
    "        bfs_order.append(curr_node)\n",
    "        for neighbour in range(len(adj_matrix)):\n",
    "            if adj_matrix[curr_node][neighbour] == 1 and visited[neighbour]!=1:\n",
    "                visited[neighbour]=1\n",
    "                q.appendleft(neighbour)\n",
    "        \n",
    "        \n",
    "    return bfs_order\n",
    "\n",
    "adj_matrix = [\n",
    "    [0, 1, 1, 0, 0],\n",
    "    [1, 0, 0, 1, 0],\n",
    "    [1, 0, 0, 1, 1],\n",
    "    [0, 1, 1, 0, 1],\n",
    "    [0, 0, 1, 1, 0]\n",
    "]\n",
    "\n",
    "\n",
    "print(f\"BFS traversal starting from vertex 0: {bfs_traversal(adj_matrix,0)}\")"
   ]
  },
  {
   "cell_type": "markdown",
   "id": "f3d2541d-b9e8-4ecd-8307-ea0a2add5e48",
   "metadata": {},
   "source": [
    "## Time Complexity\n",
    "\n",
    "Time Complexity: O(V) + O(2E), Where N = Nodes, 2E is for total degrees as we traverse all adjacent nodes.\n",
    "\n",
    "Space Complexity: O(3V) ~ O(V), Space for queue data structure visited array and an adjacency list"
   ]
  },
  {
   "cell_type": "markdown",
   "id": "cf3f1395-ccff-42e4-ba69-df828fc622b0",
   "metadata": {},
   "source": [
    "## DFS Traversal"
   ]
  },
  {
   "cell_type": "markdown",
   "id": "5abb1ed1-e87c-4ebe-a4eb-f2736bba8805",
   "metadata": {},
   "source": [
    "DFS is Depth First Traversal i.e. we traverse the until we reach the <b> depth of current path </b> we are visiting and then go to other paths. Since we are traversing depth wise, we can use a stack to store all the nodes we are visiting in a path and once we reached end of that path --> our stack holds the deepest vertex at top, we keep popping from stack and again keep traversing until all nodes are visited.\n",
    "\n",
    "<b><i> Since we have a stack, we can implement the same using recursion as recursion too uses an auxillary stack space and we need not handle stack exclusively </i></b>\n",
    "\n",
    "For tracking the visited of vertices in graph, we will maintain the array visited[] which will contain 1 if vertex i is visited and 0 if it is not visited yet.\n",
    "Below is how we implement:\n",
    "<br>\n",
    "<b> - Recursion call : <br>&nbsp; &nbsp; We can call the recursion until the nodes in the adjacency list are all visited for the vertex we are seeing </b>\n",
    "<br><b> - Keep track of the visited elements in the array by updating it to 1 before calling the recursion</b>\n",
    "    "
   ]
  },
  {
   "cell_type": "code",
   "execution_count": 21,
   "id": "d4d40034-0cbe-4d8a-a74e-de5efbc8e7b9",
   "metadata": {},
   "outputs": [
    {
     "data": {
      "text/plain": [
       "[0, 2, 4, 3, 1]"
      ]
     },
     "execution_count": 21,
     "metadata": {},
     "output_type": "execute_result"
    }
   ],
   "source": [
    "#https://www.geeksforgeeks.org/problems/depth-first-traversal-for-a-graph/1\n",
    "\n",
    "class Solution:\n",
    "    #Recursion call to implement depth-first search\n",
    "    def dfs_recursion(self,curr_node):\n",
    "        self.visited[curr_node] = 1\n",
    "        self.dfs.append(curr_node)\n",
    "        for i in self.adj[curr_node]:\n",
    "            if self.visited[i] != 1:\n",
    "                self.dfs_recursion(i)\n",
    "        \n",
    "    #Function to return a list containing the DFS traversal of the graph.\n",
    "    def dfsOfGraph(self, V, adj):\n",
    "        # code here\n",
    "        self.adj = adj\n",
    "        self.dfs = []\n",
    "        self.visited = [0]*V\n",
    "        \n",
    "        root_node = 0\n",
    "        self.visited[root_node] = 1\n",
    "\n",
    "        self.dfs_recursion(root_node)\n",
    "        \n",
    "        return self.dfs\n",
    "\n",
    "\n",
    "# #{ \n",
    "#  # Driver Code Starts\n",
    "# if __name__ == '__main__':\n",
    "#     T=int(input())\n",
    "#     while T>0:\n",
    "#         V,E=map(int,input().split())\n",
    "#         adj=[[] for i in range(V+1)]\n",
    "#         for i in range(E):\n",
    "#             u,v=map(int,input().split())\n",
    "#             adj[u].append(v)\n",
    "#             adj[v].append(u)\n",
    "#         ob=Solution()\n",
    "#         ans=ob.dfsOfGraph(V,adj)\n",
    "#         for i in range(len(ans)):\n",
    "#             print(ans[i],end=\" \")\n",
    "#         print()\n",
    "#         T-=1\n",
    "# # } Driver Code Ends\n",
    "\n",
    "V = 5 \n",
    "adj = [[2,3,1] , [0], [0,4], [0], [2]]\n",
    "Solution().dfsOfGraph(V,adj)"
   ]
  },
  {
   "cell_type": "markdown",
   "id": "09178d72-22ab-4462-8fde-e6840c0f1473",
   "metadata": {},
   "source": [
    "### DFS ON ADJACENCY MATRIX"
   ]
  },
  {
   "cell_type": "code",
   "execution_count": 25,
   "id": "0dc59142-82fc-45e7-9c6c-5c65802c99f8",
   "metadata": {},
   "outputs": [
    {
     "name": "stdout",
     "output_type": "stream",
     "text": [
      "DFS traversal starting from vertex 0: [0, 1, 3, 2, 4]\n"
     ]
    }
   ],
   "source": [
    "def dfs(adj_matrix, visited, vertex,dfs_order):\n",
    "    dfs_order.append(vertex)\n",
    "    visited[vertex] = True\n",
    "    \n",
    "    # Iterate over all vertices to find neighbors\n",
    "    for neighbor in range(len(adj_matrix[vertex])):\n",
    "        if adj_matrix[vertex][neighbor] == 1 and not visited[neighbor]: \n",
    "            #if a path is there between neighbour and vertex and it is not visitred\n",
    "            dfs(adj_matrix, visited, neighbor,dfs_order)\n",
    "\n",
    "def dfs_traversal(adj_matrix):\n",
    "    num_vertices = len(adj_matrix)\n",
    "    visited = [False] * num_vertices\n",
    "    dfs_order = []\n",
    "    dfs(adj_matrix, visited, 0, dfs_order) #start at 0\n",
    "    return dfs_order\n",
    "\n",
    "\n",
    "adj_matrix = [\n",
    "    [0, 1, 1, 0, 0],\n",
    "    [1, 0, 0, 1, 0],\n",
    "    [1, 0, 0, 1, 1],\n",
    "    [0, 1, 1, 0, 1],\n",
    "    [0, 0, 1, 1, 0]\n",
    "]\n",
    "\n",
    "\n",
    "print(f\"DFS traversal starting from vertex 0: {dfs_traversal(adj_matrix)}\")\n"
   ]
  },
  {
   "cell_type": "markdown",
   "id": "dcde7c04-a43b-46ec-8deb-8516e1e01b36",
   "metadata": {},
   "source": [
    "### Time Complexity: \n",
    "For an undirected graph, <b>O(N) + O(2E)</b>, <br> For a directed graph, <b>O(N) + O(E)</b>, Because for every node we are calling the recursive function once, the time taken is O(N) and 2E is for total degrees as we traverse for all adjacent nodes.\n",
    "\n",
    "### Space Complexity: \n",
    "O(3N) ~ O(N), Space for dfs stack space, visited array and an adjacency list."
   ]
  },
  {
   "cell_type": "code",
   "execution_count": null,
   "id": "a4da6cca-4970-42fb-8e64-adc36aee7c83",
   "metadata": {},
   "outputs": [],
   "source": []
  }
 ],
 "metadata": {
  "kernelspec": {
   "display_name": "Python 3 (ipykernel)",
   "language": "python",
   "name": "python3"
  },
  "language_info": {
   "codemirror_mode": {
    "name": "ipython",
    "version": 3
   },
   "file_extension": ".py",
   "mimetype": "text/x-python",
   "name": "python",
   "nbconvert_exporter": "python",
   "pygments_lexer": "ipython3",
   "version": "3.10.10"
  }
 },
 "nbformat": 4,
 "nbformat_minor": 5
}
