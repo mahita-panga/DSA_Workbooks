{
 "cells": [
  {
   "cell_type": "markdown",
   "id": "d8c106c3-4094-40c4-9a29-9b5d98106ae7",
   "metadata": {},
   "source": [
    "# DP\n",
    "\n",
    "-> Use DP when you want to remember the history of calculations that you have done\n",
    "-> Storing the results of various subproblems which will be used in solving the problem later on\n",
    "\n",
    "## 2 ways:\n",
    "* ###  MEMOIZATION\n",
    "* ###  TABULATION\n",
    "\n",
    "### MEMOIZATION:\n",
    "Top-down approach where we solve the problem recursively and store the results of subproblems to avoid redundant calculations. It's like having a cheat sheet where you write down the answers to problems you've already solved so you don't have to solve them again.\n",
    "\n",
    "Key Points of Memoization:\n",
    "* <b>Recursive Approach</b>: You solve the problem using a recursive function.\n",
    "* <b>Cache</b>: You use a cache (often a dictionary or an array) to store the results of subproblems.\n",
    "* <b>Top-Down</b>: You start solving the problem from the top (main problem) and break it down into smaller subproblems.\n",
    "\n",
    "\n",
    "In the below example, the @cache decorator automatically handles the caching of subproblem results. If you call fib(10), the function will recursively compute fib(9) and fib(8), but it will store these results so that subsequent calls to fib(9) and fib(8) are retrieved from the cache instead of being recomputed.\n"
   ]
  },
  {
   "cell_type": "code",
   "execution_count": 1,
   "id": "952f1df0-cd70-40e4-bb05-9cc6cf2e5049",
   "metadata": {},
   "outputs": [
    {
     "name": "stdout",
     "output_type": "stream",
     "text": [
      "55\n"
     ]
    }
   ],
   "source": [
    "from functools import cache\n",
    "\n",
    "@cache\n",
    "def fib(n):\n",
    "    if n <= 1:\n",
    "        return n\n",
    "    return fib(n-1) + fib(n-2)\n",
    "\n",
    "print(fib(10))  # Output: 55\n"
   ]
  },
  {
   "cell_type": "markdown",
   "id": "995c05dc-b39f-45b6-af60-e4011e786c7e",
   "metadata": {},
   "source": [
    "## TABULATION\n",
    "\n",
    "Tabulation is a bottom-up approach where you iteratively solve the subproblems and build up the solution to the main problem. You use a table (usually an array) to store the results of subproblems in an iterative manner.\n",
    "\n",
    "Key Points of Tabulation:\n",
    "* Iterative Approach: You solve the problem using loops instead of recursion.\n",
    "* Table: You use a table (an array) to store the results of subproblems.\n",
    "* Bottom-Up: You start solving the problem from the simplest subproblems and build up to the main problem.\n",
    "\n"
   ]
  },
  {
   "cell_type": "code",
   "execution_count": 2,
   "id": "30eb194e-1bf8-4e44-b727-dff664b2d4b6",
   "metadata": {},
   "outputs": [
    {
     "name": "stdout",
     "output_type": "stream",
     "text": [
      "55\n"
     ]
    }
   ],
   "source": [
    "def fib(n):\n",
    "    if n <= 1:\n",
    "        return n\n",
    "    fib_table = [0] * (n + 1)\n",
    "    fib_table[1] = 1\n",
    "    for i in range(2, n + 1):\n",
    "        fib_table[i] = fib_table[i - 1] + fib_table[i - 2]\n",
    "    return fib_table[n]\n",
    "\n",
    "print(fib(10))"
   ]
  },
  {
   "cell_type": "markdown",
   "id": "09337cbc-929d-49d2-b4da-771e16ef9bd0",
   "metadata": {},
   "source": [
    "### Chatgpt notes:\n",
    "\n",
    "When to Use Which:\n",
    "* Memoization: Useful when you have a clear recursive solution and want to optimize it without changing the overall structure of the code.\n",
    "* Tabulation: Useful when you prefer an iterative solution or want to avoid the overhead of recursive calls.\n",
    "  \n",
    "### Remembering the Concepts:\n",
    "* Memoization: Think of \"memorizing\" or storing results to avoid re-computation. It’s like writing down answers to avoid solving the same problem twice.\n",
    "* Tabulation: Think of \"filling out a table\" from the simplest case to the most complex. It’s like solving a puzzle by starting from the smallest pieces and building up.\n"
   ]
  },
  {
   "cell_type": "code",
   "execution_count": null,
   "id": "547ec3c9-e936-4a72-9d06-f4144ffcb048",
   "metadata": {},
   "outputs": [],
   "source": []
  }
 ],
 "metadata": {
  "kernelspec": {
   "display_name": "Python 3 (ipykernel)",
   "language": "python",
   "name": "python3"
  },
  "language_info": {
   "codemirror_mode": {
    "name": "ipython",
    "version": 3
   },
   "file_extension": ".py",
   "mimetype": "text/x-python",
   "name": "python",
   "nbconvert_exporter": "python",
   "pygments_lexer": "ipython3",
   "version": "3.10.10"
  }
 },
 "nbformat": 4,
 "nbformat_minor": 5
}
